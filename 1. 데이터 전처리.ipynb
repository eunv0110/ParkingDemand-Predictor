{
 "cells": [
  {
   "cell_type": "markdown",
   "metadata": {
    "id": "OZoqODKZL2NO"
   },
   "source": [
    "# 신규 아파트 주차 수요 예측"
   ]
  },
  {
   "cell_type": "markdown",
   "metadata": {
    "id": "smKmJd_eL2NP"
   },
   "source": [
    "<img src = \"https://github.com/Jangrae/img/blob/master/parking.png?raw=true\" width=800, align=\"left\"/>"
   ]
  },
  {
   "cell_type": "markdown",
   "metadata": {
    "id": "mJlY5pHkC2AM"
   },
   "source": [
    "# 단계 1: 데이터 전처리"
   ]
  },
  {
   "cell_type": "markdown",
   "metadata": {
    "id": "NCptKiLOAn7l"
   },
   "source": [
    "## 1. 환경설정"
   ]
  },
  {
   "cell_type": "markdown",
   "metadata": {
    "id": "gklxNfgNpkls"
   },
   "source": [
    "### (1) 로컬 수행(Anaconda)\n",
    "\n",
    "- project 폴더에 필요한 파일들을 넣고, 본 파일을 열었다면, 별도 경로 지정이 필요하지 않습니다."
   ]
  },
  {
   "cell_type": "code",
   "execution_count": 251,
   "metadata": {
    "id": "PNI6X2yxpkls",
    "tags": []
   },
   "outputs": [],
   "source": [
    "# 기본 경로\n",
    "path = ''"
   ]
  },
  {
   "cell_type": "markdown",
   "metadata": {
    "id": "7rWT4biQpkls"
   },
   "source": [
    "### (2) 구글 콜랩 수행\n",
    "\n",
    "- 구글 콜랩을 사용중이면 구글 드라이브를 연결합니다."
   ]
  },
  {
   "cell_type": "code",
   "execution_count": 254,
   "metadata": {
    "id": "CLasRk8Spklt",
    "tags": []
   },
   "outputs": [],
   "source": [
    "# 구글 드라이브 연결, 패스 지정\n",
    "import sys\n",
    "if 'google.colab' in sys.modules:\n",
    "    from google.colab import drive\n",
    "    drive.mount('/content/drive')\n",
    "    path = '/content/drive/MyDrive/project/'"
   ]
  },
  {
   "cell_type": "markdown",
   "metadata": {
    "id": "wkcb3dwgL2NR"
   },
   "source": [
    "### (3) 한글 폰트 표시용 라이브러리 설치"
   ]
  },
  {
   "cell_type": "code",
   "execution_count": 257,
   "metadata": {
    "id": "QP8erRAbL2NR"
   },
   "outputs": [],
   "source": [
    "# 한글 표시를 위한 라이브러리 설치\n",
    "#!pip install koreanize_matplotlib -q"
   ]
  },
  {
   "cell_type": "markdown",
   "metadata": {
    "id": "Nkoo0SzIL2NR"
   },
   "source": [
    "### (4) 라이브러리 불러오기"
   ]
  },
  {
   "cell_type": "code",
   "execution_count": 260,
   "metadata": {
    "id": "wqct4c1DL2NR",
    "tags": []
   },
   "outputs": [],
   "source": [
    "# 라이브러리 불러오기\n",
    "import numpy as np\n",
    "import pandas as pd\n",
    "import matplotlib.pyplot as plt\n",
    "import koreanize_matplotlib\n",
    "import seaborn as sns\n",
    "\n",
    "import joblib\n",
    "import warnings\n",
    "\n",
    "warnings.filterwarnings(action='ignore')\n",
    "%config InlineBackend.figure_format='retina'"
   ]
  },
  {
   "cell_type": "markdown",
   "metadata": {
    "id": "dPfPWkG1txqV"
   },
   "source": [
    "### (5) 데이터 불러오기\n"
   ]
  },
  {
   "cell_type": "markdown",
   "metadata": {
    "id": "fmgUEGOipvG5"
   },
   "source": [
    "#### 1) 데이터 불러오기"
   ]
  },
  {
   "cell_type": "code",
   "execution_count": 264,
   "metadata": {
    "id": "ZpMoNMpcQoQ5"
   },
   "outputs": [],
   "source": [
    "# 파일 불러오기\n",
    "apart = pd.read_excel(path+'train.xlsx')"
   ]
  },
  {
   "cell_type": "markdown",
   "metadata": {
    "id": "aI7qJqz3pr3m"
   },
   "source": [
    "#### 2) 기본 정보 조회"
   ]
  },
  {
   "cell_type": "code",
   "execution_count": 267,
   "metadata": {
    "id": "yFVSAGNhpr3m"
   },
   "outputs": [
    {
     "data": {
      "text/html": [
       "<div>\n",
       "<style scoped>\n",
       "    .dataframe tbody tr th:only-of-type {\n",
       "        vertical-align: middle;\n",
       "    }\n",
       "\n",
       "    .dataframe tbody tr th {\n",
       "        vertical-align: top;\n",
       "    }\n",
       "\n",
       "    .dataframe thead th {\n",
       "        text-align: right;\n",
       "    }\n",
       "</style>\n",
       "<table border=\"1\" class=\"dataframe\">\n",
       "  <thead>\n",
       "    <tr style=\"text-align: right;\">\n",
       "      <th></th>\n",
       "      <th>단지코드</th>\n",
       "      <th>단지명</th>\n",
       "      <th>총세대수</th>\n",
       "      <th>전용면적별세대수</th>\n",
       "      <th>지역</th>\n",
       "      <th>준공일자</th>\n",
       "      <th>건물형태</th>\n",
       "      <th>난방방식</th>\n",
       "      <th>승강기설치여부</th>\n",
       "      <th>단지내주차면수</th>\n",
       "      <th>전용면적</th>\n",
       "      <th>공용면적</th>\n",
       "      <th>임대보증금</th>\n",
       "      <th>임대료</th>\n",
       "      <th>실차량수</th>\n",
       "    </tr>\n",
       "  </thead>\n",
       "  <tbody>\n",
       "    <tr>\n",
       "      <th>0</th>\n",
       "      <td>C0001</td>\n",
       "      <td>엘에이치 서초4단지</td>\n",
       "      <td>78</td>\n",
       "      <td>35</td>\n",
       "      <td>서울</td>\n",
       "      <td>20131204</td>\n",
       "      <td>계단식</td>\n",
       "      <td>개별가스난방</td>\n",
       "      <td>전체동 설치</td>\n",
       "      <td>120</td>\n",
       "      <td>51.89</td>\n",
       "      <td>19.2603</td>\n",
       "      <td>50758000</td>\n",
       "      <td>620370</td>\n",
       "      <td>109</td>\n",
       "    </tr>\n",
       "    <tr>\n",
       "      <th>1</th>\n",
       "      <td>C0001</td>\n",
       "      <td>엘에이치 서초4단지</td>\n",
       "      <td>78</td>\n",
       "      <td>43</td>\n",
       "      <td>서울</td>\n",
       "      <td>20131204</td>\n",
       "      <td>계단식</td>\n",
       "      <td>개별가스난방</td>\n",
       "      <td>전체동 설치</td>\n",
       "      <td>120</td>\n",
       "      <td>59.93</td>\n",
       "      <td>22.2446</td>\n",
       "      <td>63166000</td>\n",
       "      <td>665490</td>\n",
       "      <td>109</td>\n",
       "    </tr>\n",
       "    <tr>\n",
       "      <th>2</th>\n",
       "      <td>C0002</td>\n",
       "      <td>LH삼성아파트</td>\n",
       "      <td>35</td>\n",
       "      <td>26</td>\n",
       "      <td>서울</td>\n",
       "      <td>20130801</td>\n",
       "      <td>복도식</td>\n",
       "      <td>개별가스난방</td>\n",
       "      <td>전체동 설치</td>\n",
       "      <td>47</td>\n",
       "      <td>27.75</td>\n",
       "      <td>16.5375</td>\n",
       "      <td>63062000</td>\n",
       "      <td>458640</td>\n",
       "      <td>35</td>\n",
       "    </tr>\n",
       "    <tr>\n",
       "      <th>3</th>\n",
       "      <td>C0002</td>\n",
       "      <td>LH삼성아파트</td>\n",
       "      <td>35</td>\n",
       "      <td>9</td>\n",
       "      <td>서울</td>\n",
       "      <td>20130801</td>\n",
       "      <td>복도식</td>\n",
       "      <td>개별가스난방</td>\n",
       "      <td>전체동 설치</td>\n",
       "      <td>47</td>\n",
       "      <td>29.08</td>\n",
       "      <td>17.3302</td>\n",
       "      <td>63062000</td>\n",
       "      <td>481560</td>\n",
       "      <td>35</td>\n",
       "    </tr>\n",
       "    <tr>\n",
       "      <th>4</th>\n",
       "      <td>C0003</td>\n",
       "      <td>강남LH8단지</td>\n",
       "      <td>88</td>\n",
       "      <td>7</td>\n",
       "      <td>서울</td>\n",
       "      <td>20131023</td>\n",
       "      <td>계단식</td>\n",
       "      <td>개별가스난방</td>\n",
       "      <td>전체동 설치</td>\n",
       "      <td>106</td>\n",
       "      <td>59.47</td>\n",
       "      <td>21.9462</td>\n",
       "      <td>72190000</td>\n",
       "      <td>586540</td>\n",
       "      <td>88</td>\n",
       "    </tr>\n",
       "  </tbody>\n",
       "</table>\n",
       "</div>"
      ],
      "text/plain": [
       "    단지코드         단지명  총세대수  전용면적별세대수  지역      준공일자 건물형태    난방방식 승강기설치여부  \\\n",
       "0  C0001  엘에이치 서초4단지    78        35  서울  20131204  계단식  개별가스난방  전체동 설치   \n",
       "1  C0001  엘에이치 서초4단지    78        43  서울  20131204  계단식  개별가스난방  전체동 설치   \n",
       "2  C0002     LH삼성아파트    35        26  서울  20130801  복도식  개별가스난방  전체동 설치   \n",
       "3  C0002     LH삼성아파트    35         9  서울  20130801  복도식  개별가스난방  전체동 설치   \n",
       "4  C0003     강남LH8단지    88         7  서울  20131023  계단식  개별가스난방  전체동 설치   \n",
       "\n",
       "   단지내주차면수   전용면적     공용면적     임대보증금     임대료  실차량수  \n",
       "0      120  51.89  19.2603  50758000  620370   109  \n",
       "1      120  59.93  22.2446  63166000  665490   109  \n",
       "2       47  27.75  16.5375  63062000  458640    35  \n",
       "3       47  29.08  17.3302  63062000  481560    35  \n",
       "4      106  59.47  21.9462  72190000  586540    88  "
      ]
     },
     "execution_count": 267,
     "metadata": {},
     "output_type": "execute_result"
    }
   ],
   "source": [
    "#데이터 탐색\n",
    "apart.head()"
   ]
  },
  {
   "cell_type": "code",
   "execution_count": 269,
   "metadata": {
    "id": "xJnnr8K-pr3m"
   },
   "outputs": [
    {
     "data": {
      "text/html": [
       "<div>\n",
       "<style scoped>\n",
       "    .dataframe tbody tr th:only-of-type {\n",
       "        vertical-align: middle;\n",
       "    }\n",
       "\n",
       "    .dataframe tbody tr th {\n",
       "        vertical-align: top;\n",
       "    }\n",
       "\n",
       "    .dataframe thead th {\n",
       "        text-align: right;\n",
       "    }\n",
       "</style>\n",
       "<table border=\"1\" class=\"dataframe\">\n",
       "  <thead>\n",
       "    <tr style=\"text-align: right;\">\n",
       "      <th></th>\n",
       "      <th>총세대수</th>\n",
       "      <th>전용면적별세대수</th>\n",
       "      <th>준공일자</th>\n",
       "      <th>단지내주차면수</th>\n",
       "      <th>전용면적</th>\n",
       "      <th>공용면적</th>\n",
       "      <th>임대보증금</th>\n",
       "      <th>임대료</th>\n",
       "      <th>실차량수</th>\n",
       "    </tr>\n",
       "  </thead>\n",
       "  <tbody>\n",
       "    <tr>\n",
       "      <th>count</th>\n",
       "      <td>1157.000000</td>\n",
       "      <td>1157.000000</td>\n",
       "      <td>1.157000e+03</td>\n",
       "      <td>1157.000000</td>\n",
       "      <td>1157.000000</td>\n",
       "      <td>1157.000000</td>\n",
       "      <td>1.157000e+03</td>\n",
       "      <td>1.157000e+03</td>\n",
       "      <td>1157.000000</td>\n",
       "    </tr>\n",
       "    <tr>\n",
       "      <th>mean</th>\n",
       "      <td>659.075194</td>\n",
       "      <td>163.691443</td>\n",
       "      <td>2.008667e+07</td>\n",
       "      <td>682.261884</td>\n",
       "      <td>51.565584</td>\n",
       "      <td>20.562360</td>\n",
       "      <td>2.850789e+07</td>\n",
       "      <td>2.259409e+05</td>\n",
       "      <td>650.762316</td>\n",
       "    </tr>\n",
       "    <tr>\n",
       "      <th>std</th>\n",
       "      <td>456.110643</td>\n",
       "      <td>166.766358</td>\n",
       "      <td>6.777985e+04</td>\n",
       "      <td>473.331805</td>\n",
       "      <td>18.243315</td>\n",
       "      <td>5.164405</td>\n",
       "      <td>2.890687e+07</td>\n",
       "      <td>1.768102e+05</td>\n",
       "      <td>390.573462</td>\n",
       "    </tr>\n",
       "    <tr>\n",
       "      <th>min</th>\n",
       "      <td>1.000000</td>\n",
       "      <td>1.000000</td>\n",
       "      <td>1.992010e+07</td>\n",
       "      <td>10.000000</td>\n",
       "      <td>17.590000</td>\n",
       "      <td>5.850000</td>\n",
       "      <td>0.000000e+00</td>\n",
       "      <td>0.000000e+00</td>\n",
       "      <td>21.000000</td>\n",
       "    </tr>\n",
       "    <tr>\n",
       "      <th>25%</th>\n",
       "      <td>315.000000</td>\n",
       "      <td>44.000000</td>\n",
       "      <td>2.005031e+07</td>\n",
       "      <td>308.000000</td>\n",
       "      <td>39.480000</td>\n",
       "      <td>16.997400</td>\n",
       "      <td>1.379700e+07</td>\n",
       "      <td>1.177400e+05</td>\n",
       "      <td>320.000000</td>\n",
       "    </tr>\n",
       "    <tr>\n",
       "      <th>50%</th>\n",
       "      <td>595.000000</td>\n",
       "      <td>112.000000</td>\n",
       "      <td>2.010042e+07</td>\n",
       "      <td>629.000000</td>\n",
       "      <td>46.900000</td>\n",
       "      <td>20.384700</td>\n",
       "      <td>1.997300e+07</td>\n",
       "      <td>1.842900e+05</td>\n",
       "      <td>626.000000</td>\n",
       "    </tr>\n",
       "    <tr>\n",
       "      <th>75%</th>\n",
       "      <td>918.000000</td>\n",
       "      <td>229.000000</td>\n",
       "      <td>2.013121e+07</td>\n",
       "      <td>911.000000</td>\n",
       "      <td>59.810000</td>\n",
       "      <td>23.722500</td>\n",
       "      <td>3.375300e+07</td>\n",
       "      <td>2.634400e+05</td>\n",
       "      <td>894.000000</td>\n",
       "    </tr>\n",
       "    <tr>\n",
       "      <th>max</th>\n",
       "      <td>2289.000000</td>\n",
       "      <td>1258.000000</td>\n",
       "      <td>2.022071e+07</td>\n",
       "      <td>4553.000000</td>\n",
       "      <td>139.350000</td>\n",
       "      <td>42.760000</td>\n",
       "      <td>2.549220e+08</td>\n",
       "      <td>1.058030e+06</td>\n",
       "      <td>1657.000000</td>\n",
       "    </tr>\n",
       "  </tbody>\n",
       "</table>\n",
       "</div>"
      ],
      "text/plain": [
       "              총세대수     전용면적별세대수          준공일자      단지내주차면수         전용면적  \\\n",
       "count  1157.000000  1157.000000  1.157000e+03  1157.000000  1157.000000   \n",
       "mean    659.075194   163.691443  2.008667e+07   682.261884    51.565584   \n",
       "std     456.110643   166.766358  6.777985e+04   473.331805    18.243315   \n",
       "min       1.000000     1.000000  1.992010e+07    10.000000    17.590000   \n",
       "25%     315.000000    44.000000  2.005031e+07   308.000000    39.480000   \n",
       "50%     595.000000   112.000000  2.010042e+07   629.000000    46.900000   \n",
       "75%     918.000000   229.000000  2.013121e+07   911.000000    59.810000   \n",
       "max    2289.000000  1258.000000  2.022071e+07  4553.000000   139.350000   \n",
       "\n",
       "              공용면적         임대보증금           임대료         실차량수  \n",
       "count  1157.000000  1.157000e+03  1.157000e+03  1157.000000  \n",
       "mean     20.562360  2.850789e+07  2.259409e+05   650.762316  \n",
       "std       5.164405  2.890687e+07  1.768102e+05   390.573462  \n",
       "min       5.850000  0.000000e+00  0.000000e+00    21.000000  \n",
       "25%      16.997400  1.379700e+07  1.177400e+05   320.000000  \n",
       "50%      20.384700  1.997300e+07  1.842900e+05   626.000000  \n",
       "75%      23.722500  3.375300e+07  2.634400e+05   894.000000  \n",
       "max      42.760000  2.549220e+08  1.058030e+06  1657.000000  "
      ]
     },
     "execution_count": 269,
     "metadata": {},
     "output_type": "execute_result"
    }
   ],
   "source": [
    "#데이터 분포\n",
    "apart.describe()"
   ]
  },
  {
   "cell_type": "code",
   "execution_count": 271,
   "metadata": {
    "id": "ajJ1qJkhpr3n"
   },
   "outputs": [
    {
     "name": "stdout",
     "output_type": "stream",
     "text": [
      "<class 'pandas.core.frame.DataFrame'>\n",
      "RangeIndex: 1157 entries, 0 to 1156\n",
      "Data columns (total 15 columns):\n",
      " #   Column    Non-Null Count  Dtype  \n",
      "---  ------    --------------  -----  \n",
      " 0   단지코드      1157 non-null   object \n",
      " 1   단지명       1157 non-null   object \n",
      " 2   총세대수      1157 non-null   int64  \n",
      " 3   전용면적별세대수  1157 non-null   int64  \n",
      " 4   지역        1157 non-null   object \n",
      " 5   준공일자      1157 non-null   int64  \n",
      " 6   건물형태      1135 non-null   object \n",
      " 7   난방방식      1082 non-null   object \n",
      " 8   승강기설치여부   1059 non-null   object \n",
      " 9   단지내주차면수   1157 non-null   int64  \n",
      " 10  전용면적      1157 non-null   float64\n",
      " 11  공용면적      1157 non-null   float64\n",
      " 12  임대보증금     1157 non-null   int64  \n",
      " 13  임대료       1157 non-null   int64  \n",
      " 14  실차량수      1157 non-null   int64  \n",
      "dtypes: float64(2), int64(7), object(6)\n",
      "memory usage: 135.7+ KB\n"
     ]
    }
   ],
   "source": [
    "#데이터 정보\n",
    "apart.info()"
   ]
  },
  {
   "cell_type": "code",
   "execution_count": 273,
   "metadata": {
    "id": "Jn78I6JFpr3n"
   },
   "outputs": [
    {
     "data": {
      "text/html": [
       "<style type=\"text/css\">\n",
       "#T_cb9ad_row0_col0, #T_cb9ad_row1_col1, #T_cb9ad_row2_col2, #T_cb9ad_row3_col3, #T_cb9ad_row4_col4, #T_cb9ad_row5_col5, #T_cb9ad_row6_col6, #T_cb9ad_row7_col7, #T_cb9ad_row8_col8 {\n",
       "  background-color: #023858;\n",
       "  color: #f1f1f1;\n",
       "}\n",
       "#T_cb9ad_row0_col1, #T_cb9ad_row7_col4 {\n",
       "  background-color: #529bc7;\n",
       "  color: #f1f1f1;\n",
       "}\n",
       "#T_cb9ad_row0_col2 {\n",
       "  background-color: #efe9f3;\n",
       "  color: #000000;\n",
       "}\n",
       "#T_cb9ad_row0_col3 {\n",
       "  background-color: #69a5cc;\n",
       "  color: #f1f1f1;\n",
       "}\n",
       "#T_cb9ad_row0_col4, #T_cb9ad_row1_col2, #T_cb9ad_row1_col5, #T_cb9ad_row1_col6, #T_cb9ad_row1_col7, #T_cb9ad_row1_col8, #T_cb9ad_row4_col0, #T_cb9ad_row4_col1, #T_cb9ad_row7_col3 {\n",
       "  background-color: #fff7fb;\n",
       "  color: #000000;\n",
       "}\n",
       "#T_cb9ad_row0_col5 {\n",
       "  background-color: #f2ecf5;\n",
       "  color: #000000;\n",
       "}\n",
       "#T_cb9ad_row0_col6, #T_cb9ad_row2_col3 {\n",
       "  background-color: #eae6f1;\n",
       "  color: #000000;\n",
       "}\n",
       "#T_cb9ad_row0_col7, #T_cb9ad_row6_col1 {\n",
       "  background-color: #f0eaf4;\n",
       "  color: #000000;\n",
       "}\n",
       "#T_cb9ad_row0_col8 {\n",
       "  background-color: #569dc8;\n",
       "  color: #f1f1f1;\n",
       "}\n",
       "#T_cb9ad_row1_col0 {\n",
       "  background-color: #4e9ac6;\n",
       "  color: #f1f1f1;\n",
       "}\n",
       "#T_cb9ad_row1_col3 {\n",
       "  background-color: #faf2f8;\n",
       "  color: #000000;\n",
       "}\n",
       "#T_cb9ad_row1_col4 {\n",
       "  background-color: #fef6fa;\n",
       "  color: #000000;\n",
       "}\n",
       "#T_cb9ad_row2_col0, #T_cb9ad_row3_col7 {\n",
       "  background-color: #d7d6e9;\n",
       "  color: #000000;\n",
       "}\n",
       "#T_cb9ad_row2_col1 {\n",
       "  background-color: #ede8f3;\n",
       "  color: #000000;\n",
       "}\n",
       "#T_cb9ad_row2_col4 {\n",
       "  background-color: #abbfdc;\n",
       "  color: #000000;\n",
       "}\n",
       "#T_cb9ad_row2_col5 {\n",
       "  background-color: #a1bbda;\n",
       "  color: #000000;\n",
       "}\n",
       "#T_cb9ad_row2_col6, #T_cb9ad_row2_col7 {\n",
       "  background-color: #a4bcda;\n",
       "  color: #000000;\n",
       "}\n",
       "#T_cb9ad_row2_col8 {\n",
       "  background-color: #f4eef6;\n",
       "  color: #000000;\n",
       "}\n",
       "#T_cb9ad_row3_col0 {\n",
       "  background-color: #2081b9;\n",
       "  color: #f1f1f1;\n",
       "}\n",
       "#T_cb9ad_row3_col1, #T_cb9ad_row3_col6, #T_cb9ad_row5_col2 {\n",
       "  background-color: #adc1dd;\n",
       "  color: #000000;\n",
       "}\n",
       "#T_cb9ad_row3_col2 {\n",
       "  background-color: #b1c2de;\n",
       "  color: #000000;\n",
       "}\n",
       "#T_cb9ad_row3_col4 {\n",
       "  background-color: #94b6d7;\n",
       "  color: #000000;\n",
       "}\n",
       "#T_cb9ad_row3_col5 {\n",
       "  background-color: #97b7d7;\n",
       "  color: #000000;\n",
       "}\n",
       "#T_cb9ad_row3_col8 {\n",
       "  background-color: #045f95;\n",
       "  color: #f1f1f1;\n",
       "}\n",
       "#T_cb9ad_row4_col2 {\n",
       "  background-color: #cacee5;\n",
       "  color: #000000;\n",
       "}\n",
       "#T_cb9ad_row4_col3, #T_cb9ad_row6_col3 {\n",
       "  background-color: #ebe6f2;\n",
       "  color: #000000;\n",
       "}\n",
       "#T_cb9ad_row4_col5 {\n",
       "  background-color: #056ba7;\n",
       "  color: #f1f1f1;\n",
       "}\n",
       "#T_cb9ad_row4_col6 {\n",
       "  background-color: #4a98c5;\n",
       "  color: #f1f1f1;\n",
       "}\n",
       "#T_cb9ad_row4_col7 {\n",
       "  background-color: #76aad0;\n",
       "  color: #f1f1f1;\n",
       "}\n",
       "#T_cb9ad_row4_col8 {\n",
       "  background-color: #fbf3f9;\n",
       "  color: #000000;\n",
       "}\n",
       "#T_cb9ad_row5_col0 {\n",
       "  background-color: #e5e1ef;\n",
       "  color: #000000;\n",
       "}\n",
       "#T_cb9ad_row5_col1 {\n",
       "  background-color: #f5eef6;\n",
       "  color: #000000;\n",
       "}\n",
       "#T_cb9ad_row5_col3 {\n",
       "  background-color: #e0dded;\n",
       "  color: #000000;\n",
       "}\n",
       "#T_cb9ad_row5_col4 {\n",
       "  background-color: #0568a3;\n",
       "  color: #f1f1f1;\n",
       "}\n",
       "#T_cb9ad_row5_col6 {\n",
       "  background-color: #5c9fc9;\n",
       "  color: #f1f1f1;\n",
       "}\n",
       "#T_cb9ad_row5_col7 {\n",
       "  background-color: #79abd0;\n",
       "  color: #f1f1f1;\n",
       "}\n",
       "#T_cb9ad_row5_col8, #T_cb9ad_row6_col8 {\n",
       "  background-color: #f3edf5;\n",
       "  color: #000000;\n",
       "}\n",
       "#T_cb9ad_row6_col0 {\n",
       "  background-color: #d5d5e8;\n",
       "  color: #000000;\n",
       "}\n",
       "#T_cb9ad_row6_col2 {\n",
       "  background-color: #a8bedc;\n",
       "  color: #000000;\n",
       "}\n",
       "#T_cb9ad_row6_col4 {\n",
       "  background-color: #348ebf;\n",
       "  color: #f1f1f1;\n",
       "}\n",
       "#T_cb9ad_row6_col5 {\n",
       "  background-color: #549cc7;\n",
       "  color: #f1f1f1;\n",
       "}\n",
       "#T_cb9ad_row6_col7 {\n",
       "  background-color: #046299;\n",
       "  color: #f1f1f1;\n",
       "}\n",
       "#T_cb9ad_row7_col0 {\n",
       "  background-color: #d3d4e7;\n",
       "  color: #000000;\n",
       "}\n",
       "#T_cb9ad_row7_col1 {\n",
       "  background-color: #e9e5f1;\n",
       "  color: #000000;\n",
       "}\n",
       "#T_cb9ad_row7_col2, #T_cb9ad_row8_col6 {\n",
       "  background-color: #9ebad9;\n",
       "  color: #000000;\n",
       "}\n",
       "#T_cb9ad_row7_col5 {\n",
       "  background-color: #67a4cc;\n",
       "  color: #f1f1f1;\n",
       "}\n",
       "#T_cb9ad_row7_col6 {\n",
       "  background-color: #046097;\n",
       "  color: #f1f1f1;\n",
       "}\n",
       "#T_cb9ad_row7_col8 {\n",
       "  background-color: #f8f1f8;\n",
       "  color: #000000;\n",
       "}\n",
       "#T_cb9ad_row8_col0 {\n",
       "  background-color: #0872b1;\n",
       "  color: #f1f1f1;\n",
       "}\n",
       "#T_cb9ad_row8_col1 {\n",
       "  background-color: #99b8d8;\n",
       "  color: #000000;\n",
       "}\n",
       "#T_cb9ad_row8_col2 {\n",
       "  background-color: #a5bddb;\n",
       "  color: #000000;\n",
       "}\n",
       "#T_cb9ad_row8_col3 {\n",
       "  background-color: #045b8f;\n",
       "  color: #f1f1f1;\n",
       "}\n",
       "#T_cb9ad_row8_col4 {\n",
       "  background-color: #8fb4d6;\n",
       "  color: #000000;\n",
       "}\n",
       "#T_cb9ad_row8_col5 {\n",
       "  background-color: #96b6d7;\n",
       "  color: #000000;\n",
       "}\n",
       "#T_cb9ad_row8_col7 {\n",
       "  background-color: #b0c2de;\n",
       "  color: #000000;\n",
       "}\n",
       "</style>\n",
       "<table id=\"T_cb9ad\">\n",
       "  <thead>\n",
       "    <tr>\n",
       "      <th class=\"blank level0\" >&nbsp;</th>\n",
       "      <th id=\"T_cb9ad_level0_col0\" class=\"col_heading level0 col0\" >총세대수</th>\n",
       "      <th id=\"T_cb9ad_level0_col1\" class=\"col_heading level0 col1\" >전용면적별세대수</th>\n",
       "      <th id=\"T_cb9ad_level0_col2\" class=\"col_heading level0 col2\" >준공일자</th>\n",
       "      <th id=\"T_cb9ad_level0_col3\" class=\"col_heading level0 col3\" >단지내주차면수</th>\n",
       "      <th id=\"T_cb9ad_level0_col4\" class=\"col_heading level0 col4\" >전용면적</th>\n",
       "      <th id=\"T_cb9ad_level0_col5\" class=\"col_heading level0 col5\" >공용면적</th>\n",
       "      <th id=\"T_cb9ad_level0_col6\" class=\"col_heading level0 col6\" >임대보증금</th>\n",
       "      <th id=\"T_cb9ad_level0_col7\" class=\"col_heading level0 col7\" >임대료</th>\n",
       "      <th id=\"T_cb9ad_level0_col8\" class=\"col_heading level0 col8\" >실차량수</th>\n",
       "    </tr>\n",
       "  </thead>\n",
       "  <tbody>\n",
       "    <tr>\n",
       "      <th id=\"T_cb9ad_level0_row0\" class=\"row_heading level0 row0\" >총세대수</th>\n",
       "      <td id=\"T_cb9ad_row0_col0\" class=\"data row0 col0\" >1.000000</td>\n",
       "      <td id=\"T_cb9ad_row0_col1\" class=\"data row0 col1\" >0.486511</td>\n",
       "      <td id=\"T_cb9ad_row0_col2\" class=\"data row0 col2\" >0.058568</td>\n",
       "      <td id=\"T_cb9ad_row0_col3\" class=\"data row0 col3\" >0.615652</td>\n",
       "      <td id=\"T_cb9ad_row0_col4\" class=\"data row0 col4\" >-0.206227</td>\n",
       "      <td id=\"T_cb9ad_row0_col5\" class=\"data row0 col5\" >-0.016092</td>\n",
       "      <td id=\"T_cb9ad_row0_col6\" class=\"data row0 col6\" >0.067881</td>\n",
       "      <td id=\"T_cb9ad_row0_col7\" class=\"data row0 col7\" >0.078974</td>\n",
       "      <td id=\"T_cb9ad_row0_col8\" class=\"data row0 col8\" >0.688783</td>\n",
       "    </tr>\n",
       "    <tr>\n",
       "      <th id=\"T_cb9ad_level0_row1\" class=\"row_heading level0 row1\" >전용면적별세대수</th>\n",
       "      <td id=\"T_cb9ad_row1_col0\" class=\"data row1 col0\" >0.486511</td>\n",
       "      <td id=\"T_cb9ad_row1_col1\" class=\"data row1 col1\" >1.000000</td>\n",
       "      <td id=\"T_cb9ad_row1_col2\" class=\"data row1 col2\" >-0.052727</td>\n",
       "      <td id=\"T_cb9ad_row1_col3\" class=\"data row1 col3\" >0.229355</td>\n",
       "      <td id=\"T_cb9ad_row1_col4\" class=\"data row1 col4\" >-0.194478</td>\n",
       "      <td id=\"T_cb9ad_row1_col5\" class=\"data row1 col5\" >-0.114391</td>\n",
       "      <td id=\"T_cb9ad_row1_col6\" class=\"data row1 col6\" >-0.075221</td>\n",
       "      <td id=\"T_cb9ad_row1_col7\" class=\"data row1 col7\" >-0.028003</td>\n",
       "      <td id=\"T_cb9ad_row1_col8\" class=\"data row1 col8\" >0.294053</td>\n",
       "    </tr>\n",
       "    <tr>\n",
       "      <th id=\"T_cb9ad_level0_row2\" class=\"row_heading level0 row2\" >준공일자</th>\n",
       "      <td id=\"T_cb9ad_row2_col0\" class=\"data row2 col0\" >0.058568</td>\n",
       "      <td id=\"T_cb9ad_row2_col1\" class=\"data row2 col1\" >-0.052727</td>\n",
       "      <td id=\"T_cb9ad_row2_col2\" class=\"data row2 col2\" >1.000000</td>\n",
       "      <td id=\"T_cb9ad_row2_col3\" class=\"data row2 col3\" >0.307112</td>\n",
       "      <td id=\"T_cb9ad_row2_col4\" class=\"data row2 col4\" >0.229243</td>\n",
       "      <td id=\"T_cb9ad_row2_col5\" class=\"data row2 col5\" >0.319225</td>\n",
       "      <td id=\"T_cb9ad_row2_col6\" class=\"data row2 col6\" >0.334364</td>\n",
       "      <td id=\"T_cb9ad_row2_col7\" class=\"data row2 col7\" >0.363545</td>\n",
       "      <td id=\"T_cb9ad_row2_col8\" class=\"data row2 col8\" >0.345515</td>\n",
       "    </tr>\n",
       "    <tr>\n",
       "      <th id=\"T_cb9ad_level0_row3\" class=\"row_heading level0 row3\" >단지내주차면수</th>\n",
       "      <td id=\"T_cb9ad_row3_col0\" class=\"data row3 col0\" >0.615652</td>\n",
       "      <td id=\"T_cb9ad_row3_col1\" class=\"data row3 col1\" >0.229355</td>\n",
       "      <td id=\"T_cb9ad_row3_col2\" class=\"data row3 col2\" >0.307112</td>\n",
       "      <td id=\"T_cb9ad_row3_col3\" class=\"data row3 col3\" >1.000000</td>\n",
       "      <td id=\"T_cb9ad_row3_col4\" class=\"data row3 col4\" >0.302381</td>\n",
       "      <td id=\"T_cb9ad_row3_col5\" class=\"data row3 col5\" >0.345131</td>\n",
       "      <td id=\"T_cb9ad_row3_col6\" class=\"data row3 col6\" >0.305111</td>\n",
       "      <td id=\"T_cb9ad_row3_col7\" class=\"data row3 col7\" >0.199081</td>\n",
       "      <td id=\"T_cb9ad_row3_col8\" class=\"data row3 col8\" >0.890626</td>\n",
       "    </tr>\n",
       "    <tr>\n",
       "      <th id=\"T_cb9ad_level0_row4\" class=\"row_heading level0 row4\" >전용면적</th>\n",
       "      <td id=\"T_cb9ad_row4_col0\" class=\"data row4 col0\" >-0.206227</td>\n",
       "      <td id=\"T_cb9ad_row4_col1\" class=\"data row4 col1\" >-0.194478</td>\n",
       "      <td id=\"T_cb9ad_row4_col2\" class=\"data row4 col2\" >0.229243</td>\n",
       "      <td id=\"T_cb9ad_row4_col3\" class=\"data row4 col3\" >0.302381</td>\n",
       "      <td id=\"T_cb9ad_row4_col4\" class=\"data row4 col4\" >1.000000</td>\n",
       "      <td id=\"T_cb9ad_row4_col5\" class=\"data row4 col5\" >0.754058</td>\n",
       "      <td id=\"T_cb9ad_row4_col6\" class=\"data row4 col6\" >0.553884</td>\n",
       "      <td id=\"T_cb9ad_row4_col7\" class=\"data row4 col7\" >0.478109</td>\n",
       "      <td id=\"T_cb9ad_row4_col8\" class=\"data row4 col8\" >0.314336</td>\n",
       "    </tr>\n",
       "    <tr>\n",
       "      <th id=\"T_cb9ad_level0_row5\" class=\"row_heading level0 row5\" >공용면적</th>\n",
       "      <td id=\"T_cb9ad_row5_col0\" class=\"data row5 col0\" >-0.016092</td>\n",
       "      <td id=\"T_cb9ad_row5_col1\" class=\"data row5 col1\" >-0.114391</td>\n",
       "      <td id=\"T_cb9ad_row5_col2\" class=\"data row5 col2\" >0.319225</td>\n",
       "      <td id=\"T_cb9ad_row5_col3\" class=\"data row5 col3\" >0.345131</td>\n",
       "      <td id=\"T_cb9ad_row5_col4\" class=\"data row5 col4\" >0.754058</td>\n",
       "      <td id=\"T_cb9ad_row5_col5\" class=\"data row5 col5\" >1.000000</td>\n",
       "      <td id=\"T_cb9ad_row5_col6\" class=\"data row5 col6\" >0.516675</td>\n",
       "      <td id=\"T_cb9ad_row5_col7\" class=\"data row5 col7\" >0.473151</td>\n",
       "      <td id=\"T_cb9ad_row5_col8\" class=\"data row5 col8\" >0.349782</td>\n",
       "    </tr>\n",
       "    <tr>\n",
       "      <th id=\"T_cb9ad_level0_row6\" class=\"row_heading level0 row6\" >임대보증금</th>\n",
       "      <td id=\"T_cb9ad_row6_col0\" class=\"data row6 col0\" >0.067881</td>\n",
       "      <td id=\"T_cb9ad_row6_col1\" class=\"data row6 col1\" >-0.075221</td>\n",
       "      <td id=\"T_cb9ad_row6_col2\" class=\"data row6 col2\" >0.334364</td>\n",
       "      <td id=\"T_cb9ad_row6_col3\" class=\"data row6 col3\" >0.305111</td>\n",
       "      <td id=\"T_cb9ad_row6_col4\" class=\"data row6 col4\" >0.553884</td>\n",
       "      <td id=\"T_cb9ad_row6_col5\" class=\"data row6 col5\" >0.516675</td>\n",
       "      <td id=\"T_cb9ad_row6_col6\" class=\"data row6 col6\" >1.000000</td>\n",
       "      <td id=\"T_cb9ad_row6_col7\" class=\"data row6 col7\" >0.826746</td>\n",
       "      <td id=\"T_cb9ad_row6_col8\" class=\"data row6 col8\" >0.350013</td>\n",
       "    </tr>\n",
       "    <tr>\n",
       "      <th id=\"T_cb9ad_level0_row7\" class=\"row_heading level0 row7\" >임대료</th>\n",
       "      <td id=\"T_cb9ad_row7_col0\" class=\"data row7 col0\" >0.078974</td>\n",
       "      <td id=\"T_cb9ad_row7_col1\" class=\"data row7 col1\" >-0.028003</td>\n",
       "      <td id=\"T_cb9ad_row7_col2\" class=\"data row7 col2\" >0.363545</td>\n",
       "      <td id=\"T_cb9ad_row7_col3\" class=\"data row7 col3\" >0.199081</td>\n",
       "      <td id=\"T_cb9ad_row7_col4\" class=\"data row7 col4\" >0.478109</td>\n",
       "      <td id=\"T_cb9ad_row7_col5\" class=\"data row7 col5\" >0.473151</td>\n",
       "      <td id=\"T_cb9ad_row7_col6\" class=\"data row7 col6\" >0.826746</td>\n",
       "      <td id=\"T_cb9ad_row7_col7\" class=\"data row7 col7\" >1.000000</td>\n",
       "      <td id=\"T_cb9ad_row7_col8\" class=\"data row7 col8\" >0.325393</td>\n",
       "    </tr>\n",
       "    <tr>\n",
       "      <th id=\"T_cb9ad_level0_row8\" class=\"row_heading level0 row8\" >실차량수</th>\n",
       "      <td id=\"T_cb9ad_row8_col0\" class=\"data row8 col0\" >0.688783</td>\n",
       "      <td id=\"T_cb9ad_row8_col1\" class=\"data row8 col1\" >0.294053</td>\n",
       "      <td id=\"T_cb9ad_row8_col2\" class=\"data row8 col2\" >0.345515</td>\n",
       "      <td id=\"T_cb9ad_row8_col3\" class=\"data row8 col3\" >0.890626</td>\n",
       "      <td id=\"T_cb9ad_row8_col4\" class=\"data row8 col4\" >0.314336</td>\n",
       "      <td id=\"T_cb9ad_row8_col5\" class=\"data row8 col5\" >0.349782</td>\n",
       "      <td id=\"T_cb9ad_row8_col6\" class=\"data row8 col6\" >0.350013</td>\n",
       "      <td id=\"T_cb9ad_row8_col7\" class=\"data row8 col7\" >0.325393</td>\n",
       "      <td id=\"T_cb9ad_row8_col8\" class=\"data row8 col8\" >1.000000</td>\n",
       "    </tr>\n",
       "  </tbody>\n",
       "</table>\n"
      ],
      "text/plain": [
       "<pandas.io.formats.style.Styler at 0x25e4736b530>"
      ]
     },
     "execution_count": 273,
     "metadata": {},
     "output_type": "execute_result"
    }
   ],
   "source": [
    "#상관관계 계수\n",
    "apart.corr(numeric_only=True).style.background_gradient()"
   ]
  },
  {
   "cell_type": "markdown",
   "metadata": {
    "id": "wcSokv_rvG-R"
   },
   "source": [
    "## 2. 데이터 전처리 ①\n"
   ]
  },
  {
   "cell_type": "code",
   "execution_count": 277,
   "metadata": {
    "id": "eooU_CN4x_B6"
   },
   "outputs": [
    {
     "data": {
      "text/plain": [
       "단지코드         0\n",
       "단지명          0\n",
       "총세대수         0\n",
       "전용면적별세대수     0\n",
       "지역           0\n",
       "준공일자         0\n",
       "건물형태        22\n",
       "난방방식        75\n",
       "승강기설치여부     98\n",
       "단지내주차면수      0\n",
       "전용면적         0\n",
       "공용면적         0\n",
       "임대보증금        0\n",
       "임대료          0\n",
       "실차량수         0\n",
       "dtype: int64"
      ]
     },
     "execution_count": 277,
     "metadata": {},
     "output_type": "execute_result"
    }
   ],
   "source": [
    "apart.isnull().sum()"
   ]
  },
  {
   "cell_type": "code",
   "execution_count": 280,
   "metadata": {},
   "outputs": [],
   "source": [
    "mode1=apart['건물형태'].mode()[0]\n",
    "mode2=apart['난방방식'].mode()[0]\n",
    "mode3=apart['승강기설치여부'].mode()[0]"
   ]
  },
  {
   "cell_type": "code",
   "execution_count": 282,
   "metadata": {},
   "outputs": [
    {
     "data": {
      "text/plain": [
       "('복도식', '개별가스난방', '전체동 설치')"
      ]
     },
     "execution_count": 282,
     "metadata": {},
     "output_type": "execute_result"
    }
   ],
   "source": [
    "mode1,mode2,mode3"
   ]
  },
  {
   "cell_type": "code",
   "execution_count": 284,
   "metadata": {},
   "outputs": [],
   "source": [
    "apart['건물형태'].fillna(mode1,inplace=True)\n",
    "apart['난방방식'].fillna(mode2,inplace=True)\n",
    "apart['승강기설치여부'].fillna(mode3,inplace=True)"
   ]
  },
  {
   "cell_type": "code",
   "execution_count": 286,
   "metadata": {},
   "outputs": [
    {
     "data": {
      "text/plain": [
       "단지코드        0\n",
       "단지명         0\n",
       "총세대수        0\n",
       "전용면적별세대수    0\n",
       "지역          0\n",
       "준공일자        0\n",
       "건물형태        0\n",
       "난방방식        0\n",
       "승강기설치여부     0\n",
       "단지내주차면수     0\n",
       "전용면적        0\n",
       "공용면적        0\n",
       "임대보증금       0\n",
       "임대료         0\n",
       "실차량수        0\n",
       "dtype: int64"
      ]
     },
     "execution_count": 286,
     "metadata": {},
     "output_type": "execute_result"
    }
   ],
   "source": [
    "#결측치 제거 확인\n",
    "apart.isna().sum()"
   ]
  },
  {
   "cell_type": "code",
   "execution_count": 289,
   "metadata": {},
   "outputs": [],
   "source": [
    "apart['준공연도']=apart['준공일자'].astype(str).str[0:4]\n",
    "apart['준공연도']=apart['준공연도'].astype(int)"
   ]
  },
  {
   "cell_type": "code",
   "execution_count": 291,
   "metadata": {
    "id": "nX8-ZC5k3JQv"
   },
   "outputs": [],
   "source": [
    "apart['총면적']=(apart['전용면적']+apart['공용면적'])*apart['전용면적별세대수']"
   ]
  },
  {
   "cell_type": "code",
   "execution_count": 293,
   "metadata": {},
   "outputs": [
    {
     "data": {
      "text/html": [
       "<div>\n",
       "<style scoped>\n",
       "    .dataframe tbody tr th:only-of-type {\n",
       "        vertical-align: middle;\n",
       "    }\n",
       "\n",
       "    .dataframe tbody tr th {\n",
       "        vertical-align: top;\n",
       "    }\n",
       "\n",
       "    .dataframe thead th {\n",
       "        text-align: right;\n",
       "    }\n",
       "</style>\n",
       "<table border=\"1\" class=\"dataframe\">\n",
       "  <thead>\n",
       "    <tr style=\"text-align: right;\">\n",
       "      <th></th>\n",
       "      <th>단지코드</th>\n",
       "      <th>단지명</th>\n",
       "      <th>총세대수</th>\n",
       "      <th>전용면적별세대수</th>\n",
       "      <th>지역</th>\n",
       "      <th>준공일자</th>\n",
       "      <th>건물형태</th>\n",
       "      <th>난방방식</th>\n",
       "      <th>승강기설치여부</th>\n",
       "      <th>단지내주차면수</th>\n",
       "      <th>전용면적</th>\n",
       "      <th>공용면적</th>\n",
       "      <th>임대보증금</th>\n",
       "      <th>임대료</th>\n",
       "      <th>실차량수</th>\n",
       "      <th>준공연도</th>\n",
       "      <th>총면적</th>\n",
       "    </tr>\n",
       "  </thead>\n",
       "  <tbody>\n",
       "    <tr>\n",
       "      <th>0</th>\n",
       "      <td>C0001</td>\n",
       "      <td>엘에이치 서초4단지</td>\n",
       "      <td>78</td>\n",
       "      <td>35</td>\n",
       "      <td>서울</td>\n",
       "      <td>20131204</td>\n",
       "      <td>계단식</td>\n",
       "      <td>개별가스난방</td>\n",
       "      <td>전체동 설치</td>\n",
       "      <td>120</td>\n",
       "      <td>51.89</td>\n",
       "      <td>19.2603</td>\n",
       "      <td>50758000</td>\n",
       "      <td>620370</td>\n",
       "      <td>109</td>\n",
       "      <td>2013</td>\n",
       "      <td>2490.2605</td>\n",
       "    </tr>\n",
       "    <tr>\n",
       "      <th>1</th>\n",
       "      <td>C0001</td>\n",
       "      <td>엘에이치 서초4단지</td>\n",
       "      <td>78</td>\n",
       "      <td>43</td>\n",
       "      <td>서울</td>\n",
       "      <td>20131204</td>\n",
       "      <td>계단식</td>\n",
       "      <td>개별가스난방</td>\n",
       "      <td>전체동 설치</td>\n",
       "      <td>120</td>\n",
       "      <td>59.93</td>\n",
       "      <td>22.2446</td>\n",
       "      <td>63166000</td>\n",
       "      <td>665490</td>\n",
       "      <td>109</td>\n",
       "      <td>2013</td>\n",
       "      <td>3533.5078</td>\n",
       "    </tr>\n",
       "    <tr>\n",
       "      <th>2</th>\n",
       "      <td>C0002</td>\n",
       "      <td>LH삼성아파트</td>\n",
       "      <td>35</td>\n",
       "      <td>26</td>\n",
       "      <td>서울</td>\n",
       "      <td>20130801</td>\n",
       "      <td>복도식</td>\n",
       "      <td>개별가스난방</td>\n",
       "      <td>전체동 설치</td>\n",
       "      <td>47</td>\n",
       "      <td>27.75</td>\n",
       "      <td>16.5375</td>\n",
       "      <td>63062000</td>\n",
       "      <td>458640</td>\n",
       "      <td>35</td>\n",
       "      <td>2013</td>\n",
       "      <td>1151.4750</td>\n",
       "    </tr>\n",
       "    <tr>\n",
       "      <th>3</th>\n",
       "      <td>C0002</td>\n",
       "      <td>LH삼성아파트</td>\n",
       "      <td>35</td>\n",
       "      <td>9</td>\n",
       "      <td>서울</td>\n",
       "      <td>20130801</td>\n",
       "      <td>복도식</td>\n",
       "      <td>개별가스난방</td>\n",
       "      <td>전체동 설치</td>\n",
       "      <td>47</td>\n",
       "      <td>29.08</td>\n",
       "      <td>17.3302</td>\n",
       "      <td>63062000</td>\n",
       "      <td>481560</td>\n",
       "      <td>35</td>\n",
       "      <td>2013</td>\n",
       "      <td>417.6918</td>\n",
       "    </tr>\n",
       "    <tr>\n",
       "      <th>4</th>\n",
       "      <td>C0003</td>\n",
       "      <td>강남LH8단지</td>\n",
       "      <td>88</td>\n",
       "      <td>7</td>\n",
       "      <td>서울</td>\n",
       "      <td>20131023</td>\n",
       "      <td>계단식</td>\n",
       "      <td>개별가스난방</td>\n",
       "      <td>전체동 설치</td>\n",
       "      <td>106</td>\n",
       "      <td>59.47</td>\n",
       "      <td>21.9462</td>\n",
       "      <td>72190000</td>\n",
       "      <td>586540</td>\n",
       "      <td>88</td>\n",
       "      <td>2013</td>\n",
       "      <td>569.9134</td>\n",
       "    </tr>\n",
       "  </tbody>\n",
       "</table>\n",
       "</div>"
      ],
      "text/plain": [
       "    단지코드         단지명  총세대수  전용면적별세대수  지역      준공일자 건물형태    난방방식 승강기설치여부  \\\n",
       "0  C0001  엘에이치 서초4단지    78        35  서울  20131204  계단식  개별가스난방  전체동 설치   \n",
       "1  C0001  엘에이치 서초4단지    78        43  서울  20131204  계단식  개별가스난방  전체동 설치   \n",
       "2  C0002     LH삼성아파트    35        26  서울  20130801  복도식  개별가스난방  전체동 설치   \n",
       "3  C0002     LH삼성아파트    35         9  서울  20130801  복도식  개별가스난방  전체동 설치   \n",
       "4  C0003     강남LH8단지    88         7  서울  20131023  계단식  개별가스난방  전체동 설치   \n",
       "\n",
       "   단지내주차면수   전용면적     공용면적     임대보증금     임대료  실차량수  준공연도        총면적  \n",
       "0      120  51.89  19.2603  50758000  620370   109  2013  2490.2605  \n",
       "1      120  59.93  22.2446  63166000  665490   109  2013  3533.5078  \n",
       "2       47  27.75  16.5375  63062000  458640    35  2013  1151.4750  \n",
       "3       47  29.08  17.3302  63062000  481560    35  2013   417.6918  \n",
       "4      106  59.47  21.9462  72190000  586540    88  2013   569.9134  "
      ]
     },
     "execution_count": 293,
     "metadata": {},
     "output_type": "execute_result"
    }
   ],
   "source": [
    "apart.head()"
   ]
  },
  {
   "cell_type": "code",
   "execution_count": 296,
   "metadata": {
    "id": "9M9lBu6TvG-U"
   },
   "outputs": [],
   "source": [
    "#단지명 변수 제거\n",
    "apart.drop(columns='단지명',inplace=True)\n",
    "apart.drop(columns='단지내주차면수',inplace=True)\n",
    "apart.drop(columns='준공일자',inplace=True)"
   ]
  },
  {
   "cell_type": "code",
   "execution_count": 248,
   "metadata": {},
   "outputs": [
    {
     "data": {
      "text/html": [
       "<div>\n",
       "<style scoped>\n",
       "    .dataframe tbody tr th:only-of-type {\n",
       "        vertical-align: middle;\n",
       "    }\n",
       "\n",
       "    .dataframe tbody tr th {\n",
       "        vertical-align: top;\n",
       "    }\n",
       "\n",
       "    .dataframe thead th {\n",
       "        text-align: right;\n",
       "    }\n",
       "</style>\n",
       "<table border=\"1\" class=\"dataframe\">\n",
       "  <thead>\n",
       "    <tr style=\"text-align: right;\">\n",
       "      <th></th>\n",
       "      <th>단지코드</th>\n",
       "      <th>총세대수</th>\n",
       "      <th>전용면적별세대수</th>\n",
       "      <th>지역</th>\n",
       "      <th>준공일자</th>\n",
       "      <th>건물형태</th>\n",
       "      <th>난방방식</th>\n",
       "      <th>승강기설치여부</th>\n",
       "      <th>전용면적</th>\n",
       "      <th>공용면적</th>\n",
       "      <th>임대보증금</th>\n",
       "      <th>임대료</th>\n",
       "      <th>실차량수</th>\n",
       "      <th>총면적</th>\n",
       "    </tr>\n",
       "  </thead>\n",
       "  <tbody>\n",
       "    <tr>\n",
       "      <th>0</th>\n",
       "      <td>C0001</td>\n",
       "      <td>78</td>\n",
       "      <td>35</td>\n",
       "      <td>서울</td>\n",
       "      <td>20131204</td>\n",
       "      <td>계단식</td>\n",
       "      <td>개별가스난방</td>\n",
       "      <td>전체동 설치</td>\n",
       "      <td>51.89</td>\n",
       "      <td>19.2603</td>\n",
       "      <td>50758000</td>\n",
       "      <td>620370</td>\n",
       "      <td>109</td>\n",
       "      <td>2490.2605</td>\n",
       "    </tr>\n",
       "    <tr>\n",
       "      <th>1</th>\n",
       "      <td>C0001</td>\n",
       "      <td>78</td>\n",
       "      <td>43</td>\n",
       "      <td>서울</td>\n",
       "      <td>20131204</td>\n",
       "      <td>계단식</td>\n",
       "      <td>개별가스난방</td>\n",
       "      <td>전체동 설치</td>\n",
       "      <td>59.93</td>\n",
       "      <td>22.2446</td>\n",
       "      <td>63166000</td>\n",
       "      <td>665490</td>\n",
       "      <td>109</td>\n",
       "      <td>3533.5078</td>\n",
       "    </tr>\n",
       "    <tr>\n",
       "      <th>2</th>\n",
       "      <td>C0002</td>\n",
       "      <td>35</td>\n",
       "      <td>26</td>\n",
       "      <td>서울</td>\n",
       "      <td>20130801</td>\n",
       "      <td>복도식</td>\n",
       "      <td>개별가스난방</td>\n",
       "      <td>전체동 설치</td>\n",
       "      <td>27.75</td>\n",
       "      <td>16.5375</td>\n",
       "      <td>63062000</td>\n",
       "      <td>458640</td>\n",
       "      <td>35</td>\n",
       "      <td>1151.4750</td>\n",
       "    </tr>\n",
       "    <tr>\n",
       "      <th>3</th>\n",
       "      <td>C0002</td>\n",
       "      <td>35</td>\n",
       "      <td>9</td>\n",
       "      <td>서울</td>\n",
       "      <td>20130801</td>\n",
       "      <td>복도식</td>\n",
       "      <td>개별가스난방</td>\n",
       "      <td>전체동 설치</td>\n",
       "      <td>29.08</td>\n",
       "      <td>17.3302</td>\n",
       "      <td>63062000</td>\n",
       "      <td>481560</td>\n",
       "      <td>35</td>\n",
       "      <td>417.6918</td>\n",
       "    </tr>\n",
       "    <tr>\n",
       "      <th>4</th>\n",
       "      <td>C0003</td>\n",
       "      <td>88</td>\n",
       "      <td>7</td>\n",
       "      <td>서울</td>\n",
       "      <td>20131023</td>\n",
       "      <td>계단식</td>\n",
       "      <td>개별가스난방</td>\n",
       "      <td>전체동 설치</td>\n",
       "      <td>59.47</td>\n",
       "      <td>21.9462</td>\n",
       "      <td>72190000</td>\n",
       "      <td>586540</td>\n",
       "      <td>88</td>\n",
       "      <td>569.9134</td>\n",
       "    </tr>\n",
       "  </tbody>\n",
       "</table>\n",
       "</div>"
      ],
      "text/plain": [
       "    단지코드  총세대수  전용면적별세대수  지역      준공일자 건물형태    난방방식 승강기설치여부   전용면적     공용면적  \\\n",
       "0  C0001    78        35  서울  20131204  계단식  개별가스난방  전체동 설치  51.89  19.2603   \n",
       "1  C0001    78        43  서울  20131204  계단식  개별가스난방  전체동 설치  59.93  22.2446   \n",
       "2  C0002    35        26  서울  20130801  복도식  개별가스난방  전체동 설치  27.75  16.5375   \n",
       "3  C0002    35         9  서울  20130801  복도식  개별가스난방  전체동 설치  29.08  17.3302   \n",
       "4  C0003    88         7  서울  20131023  계단식  개별가스난방  전체동 설치  59.47  21.9462   \n",
       "\n",
       "      임대보증금     임대료  실차량수        총면적  \n",
       "0  50758000  620370   109  2490.2605  \n",
       "1  63166000  665490   109  3533.5078  \n",
       "2  63062000  458640    35  1151.4750  \n",
       "3  63062000  481560    35   417.6918  \n",
       "4  72190000  586540    88   569.9134  "
      ]
     },
     "execution_count": 248,
     "metadata": {},
     "output_type": "execute_result"
    }
   ],
   "source": [
    "#확인\n",
    "apart.head()"
   ]
  },
  {
   "cell_type": "markdown",
   "metadata": {
    "id": "lzvfiO7kvG-U"
   },
   "source": [
    "## 3. 데이터 전처리 ②\n"
   ]
  },
  {
   "cell_type": "code",
   "execution_count": 314,
   "metadata": {
    "id": "u6VNeJjfvG-V"
   },
   "outputs": [],
   "source": [
    "data01=apart[['단지코드', '총세대수', '지역', '준공연도', '건물형태', '난방방식', '승강기설치여부', '실차량수']]\n",
    "#중복 행 제거\n",
    "data01.drop_duplicates(inplace=True)\n",
    "#인덱스 초기화(기존 인덱스 제거)\n",
    "data01.reset_index(drop=True,inplace=True)"
   ]
  },
  {
   "cell_type": "code",
   "execution_count": 320,
   "metadata": {},
   "outputs": [
    {
     "name": "stdout",
     "output_type": "stream",
     "text": [
      "False\n"
     ]
    }
   ],
   "source": [
    "# 중복행 제거 여부 확인\n",
    "is_duplicated = data01.duplicated().any()\n",
    "print(is_duplicated)"
   ]
  },
  {
   "cell_type": "code",
   "execution_count": 312,
   "metadata": {
    "id": "Ugp8UiSdvG-X"
   },
   "outputs": [
    {
     "data": {
      "text/html": [
       "<div>\n",
       "<style scoped>\n",
       "    .dataframe tbody tr th:only-of-type {\n",
       "        vertical-align: middle;\n",
       "    }\n",
       "\n",
       "    .dataframe tbody tr th {\n",
       "        vertical-align: top;\n",
       "    }\n",
       "\n",
       "    .dataframe thead th {\n",
       "        text-align: right;\n",
       "    }\n",
       "</style>\n",
       "<table border=\"1\" class=\"dataframe\">\n",
       "  <thead>\n",
       "    <tr style=\"text-align: right;\">\n",
       "      <th></th>\n",
       "      <th>단지코드</th>\n",
       "      <th>총면적</th>\n",
       "      <th>전용면적별세대수</th>\n",
       "      <th>전용면적</th>\n",
       "      <th>공용면적</th>\n",
       "      <th>임대보증금</th>\n",
       "      <th>임대료</th>\n",
       "    </tr>\n",
       "  </thead>\n",
       "  <tbody>\n",
       "    <tr>\n",
       "      <th>0</th>\n",
       "      <td>C0001</td>\n",
       "      <td>2490.2605</td>\n",
       "      <td>35</td>\n",
       "      <td>51.89</td>\n",
       "      <td>19.2603</td>\n",
       "      <td>50758000</td>\n",
       "      <td>620370</td>\n",
       "    </tr>\n",
       "    <tr>\n",
       "      <th>1</th>\n",
       "      <td>C0001</td>\n",
       "      <td>3533.5078</td>\n",
       "      <td>43</td>\n",
       "      <td>59.93</td>\n",
       "      <td>22.2446</td>\n",
       "      <td>63166000</td>\n",
       "      <td>665490</td>\n",
       "    </tr>\n",
       "    <tr>\n",
       "      <th>2</th>\n",
       "      <td>C0002</td>\n",
       "      <td>1151.4750</td>\n",
       "      <td>26</td>\n",
       "      <td>27.75</td>\n",
       "      <td>16.5375</td>\n",
       "      <td>63062000</td>\n",
       "      <td>458640</td>\n",
       "    </tr>\n",
       "    <tr>\n",
       "      <th>3</th>\n",
       "      <td>C0002</td>\n",
       "      <td>417.6918</td>\n",
       "      <td>9</td>\n",
       "      <td>29.08</td>\n",
       "      <td>17.3302</td>\n",
       "      <td>63062000</td>\n",
       "      <td>481560</td>\n",
       "    </tr>\n",
       "    <tr>\n",
       "      <th>4</th>\n",
       "      <td>C0003</td>\n",
       "      <td>569.9134</td>\n",
       "      <td>7</td>\n",
       "      <td>59.47</td>\n",
       "      <td>21.9462</td>\n",
       "      <td>72190000</td>\n",
       "      <td>586540</td>\n",
       "    </tr>\n",
       "  </tbody>\n",
       "</table>\n",
       "</div>"
      ],
      "text/plain": [
       "    단지코드        총면적  전용면적별세대수   전용면적     공용면적     임대보증금     임대료\n",
       "0  C0001  2490.2605        35  51.89  19.2603  50758000  620370\n",
       "1  C0001  3533.5078        43  59.93  22.2446  63166000  665490\n",
       "2  C0002  1151.4750        26  27.75  16.5375  63062000  458640\n",
       "3  C0002   417.6918         9  29.08  17.3302  63062000  481560\n",
       "4  C0003   569.9134         7  59.47  21.9462  72190000  586540"
      ]
     },
     "execution_count": 312,
     "metadata": {},
     "output_type": "execute_result"
    }
   ],
   "source": [
    "data02=apart[['단지코드', '총면적', '전용면적별세대수', '전용면적', '공용면적', '임대보증금', '임대료']]\n",
    "data02.head()"
   ]
  },
  {
   "cell_type": "code",
   "execution_count": 326,
   "metadata": {
    "id": "e_FHC-_BvG-a"
   },
   "outputs": [],
   "source": [
    "df_area=data02.groupby(['단지코드'],as_index=False)['총면적'].sum()"
   ]
  },
  {
   "cell_type": "code",
   "execution_count": 328,
   "metadata": {},
   "outputs": [
    {
     "data": {
      "text/html": [
       "<div>\n",
       "<style scoped>\n",
       "    .dataframe tbody tr th:only-of-type {\n",
       "        vertical-align: middle;\n",
       "    }\n",
       "\n",
       "    .dataframe tbody tr th {\n",
       "        vertical-align: top;\n",
       "    }\n",
       "\n",
       "    .dataframe thead th {\n",
       "        text-align: right;\n",
       "    }\n",
       "</style>\n",
       "<table border=\"1\" class=\"dataframe\">\n",
       "  <thead>\n",
       "    <tr style=\"text-align: right;\">\n",
       "      <th></th>\n",
       "      <th>단지코드</th>\n",
       "      <th>총면적</th>\n",
       "    </tr>\n",
       "  </thead>\n",
       "  <tbody>\n",
       "    <tr>\n",
       "      <th>0</th>\n",
       "      <td>C0001</td>\n",
       "      <td>6023.7683</td>\n",
       "    </tr>\n",
       "    <tr>\n",
       "      <th>1</th>\n",
       "      <td>C0002</td>\n",
       "      <td>1569.1668</td>\n",
       "    </tr>\n",
       "    <tr>\n",
       "      <th>2</th>\n",
       "      <td>C0003</td>\n",
       "      <td>7180.1396</td>\n",
       "    </tr>\n",
       "    <tr>\n",
       "      <th>3</th>\n",
       "      <td>C0004</td>\n",
       "      <td>47058.9273</td>\n",
       "    </tr>\n",
       "    <tr>\n",
       "      <th>4</th>\n",
       "      <td>C0006</td>\n",
       "      <td>543.0268</td>\n",
       "    </tr>\n",
       "  </tbody>\n",
       "</table>\n",
       "</div>"
      ],
      "text/plain": [
       "    단지코드         총면적\n",
       "0  C0001   6023.7683\n",
       "1  C0002   1569.1668\n",
       "2  C0003   7180.1396\n",
       "3  C0004  47058.9273\n",
       "4  C0006    543.0268"
      ]
     },
     "execution_count": 328,
     "metadata": {},
     "output_type": "execute_result"
    }
   ],
   "source": [
    "df_area.head()"
   ]
  },
  {
   "cell_type": "code",
   "execution_count": 332,
   "metadata": {},
   "outputs": [
    {
     "data": {
      "text/plain": [
       "(array([ 90., 327., 382., 154.,  57., 132.,   5.,   1.,   6.,   3.]),\n",
       " array([ 17.59 ,  29.766,  41.942,  54.118,  66.294,  78.47 ,  90.646,\n",
       "        102.822, 114.998, 127.174, 139.35 ]),\n",
       " <BarContainer object of 10 artists>)"
      ]
     },
     "execution_count": 332,
     "metadata": {},
     "output_type": "execute_result"
    },
    {
     "data": {
      "image/png": "[encoded data removed]",
      "text/plain": [
       "<Figure size 640x480 with 1 Axes>"
      ]
     },
     "metadata": {
      "image/png": {
       "height": 416,
       "width": 551
      }
     },
     "output_type": "display_data"
    }
   ],
   "source": [
    "import matplotlib.pyplot as plt\n",
    "\n",
    "# 박스플롯 그리기\n",
    "plt.hist(apart['전용면적'])"
   ]
  },
  {
   "cell_type": "code",
   "execution_count": 355,
   "metadata": {
    "id": "S-tjZWy7vG-Y"
   },
   "outputs": [],
   "source": [
    "# 전용면적 구간을 설정\n",
    "bins = [10, 30, 40, 50, 60, 70, 80, 200]\n",
    "labels = ['면적10-30', '면적30-40', '면적40-50', '면적50-60', '면적60-70', '면적70-80', '면적80-200']"
   ]
  },
  {
   "cell_type": "code",
   "execution_count": 357,
   "metadata": {},
   "outputs": [],
   "source": [
    "# 전용면적 구간 변수 추가\n",
    "data02['전용면적구간'] = pd.cut(data02['전용면적'], bins=bins, labels=labels, right=False)"
   ]
  },
  {
   "cell_type": "code",
   "execution_count": 359,
   "metadata": {},
   "outputs": [
    {
     "data": {
      "text/html": [
       "<div>\n",
       "<style scoped>\n",
       "    .dataframe tbody tr th:only-of-type {\n",
       "        vertical-align: middle;\n",
       "    }\n",
       "\n",
       "    .dataframe tbody tr th {\n",
       "        vertical-align: top;\n",
       "    }\n",
       "\n",
       "    .dataframe thead th {\n",
       "        text-align: right;\n",
       "    }\n",
       "</style>\n",
       "<table border=\"1\" class=\"dataframe\">\n",
       "  <thead>\n",
       "    <tr style=\"text-align: right;\">\n",
       "      <th></th>\n",
       "      <th>단지코드</th>\n",
       "      <th>총면적</th>\n",
       "      <th>전용면적별세대수</th>\n",
       "      <th>전용면적</th>\n",
       "      <th>공용면적</th>\n",
       "      <th>임대보증금</th>\n",
       "      <th>임대료</th>\n",
       "      <th>전용면적구간</th>\n",
       "    </tr>\n",
       "  </thead>\n",
       "  <tbody>\n",
       "    <tr>\n",
       "      <th>0</th>\n",
       "      <td>C0001</td>\n",
       "      <td>2490.2605</td>\n",
       "      <td>35</td>\n",
       "      <td>51.89</td>\n",
       "      <td>19.2603</td>\n",
       "      <td>50758000</td>\n",
       "      <td>620370</td>\n",
       "      <td>면적50-60</td>\n",
       "    </tr>\n",
       "    <tr>\n",
       "      <th>1</th>\n",
       "      <td>C0001</td>\n",
       "      <td>3533.5078</td>\n",
       "      <td>43</td>\n",
       "      <td>59.93</td>\n",
       "      <td>22.2446</td>\n",
       "      <td>63166000</td>\n",
       "      <td>665490</td>\n",
       "      <td>면적50-60</td>\n",
       "    </tr>\n",
       "    <tr>\n",
       "      <th>2</th>\n",
       "      <td>C0002</td>\n",
       "      <td>1151.4750</td>\n",
       "      <td>26</td>\n",
       "      <td>27.75</td>\n",
       "      <td>16.5375</td>\n",
       "      <td>63062000</td>\n",
       "      <td>458640</td>\n",
       "      <td>면적10-30</td>\n",
       "    </tr>\n",
       "    <tr>\n",
       "      <th>3</th>\n",
       "      <td>C0002</td>\n",
       "      <td>417.6918</td>\n",
       "      <td>9</td>\n",
       "      <td>29.08</td>\n",
       "      <td>17.3302</td>\n",
       "      <td>63062000</td>\n",
       "      <td>481560</td>\n",
       "      <td>면적10-30</td>\n",
       "    </tr>\n",
       "    <tr>\n",
       "      <th>4</th>\n",
       "      <td>C0003</td>\n",
       "      <td>569.9134</td>\n",
       "      <td>7</td>\n",
       "      <td>59.47</td>\n",
       "      <td>21.9462</td>\n",
       "      <td>72190000</td>\n",
       "      <td>586540</td>\n",
       "      <td>면적50-60</td>\n",
       "    </tr>\n",
       "  </tbody>\n",
       "</table>\n",
       "</div>"
      ],
      "text/plain": [
       "    단지코드        총면적  전용면적별세대수   전용면적     공용면적     임대보증금     임대료   전용면적구간\n",
       "0  C0001  2490.2605        35  51.89  19.2603  50758000  620370  면적50-60\n",
       "1  C0001  3533.5078        43  59.93  22.2446  63166000  665490  면적50-60\n",
       "2  C0002  1151.4750        26  27.75  16.5375  63062000  458640  면적10-30\n",
       "3  C0002   417.6918         9  29.08  17.3302  63062000  481560  면적10-30\n",
       "4  C0003   569.9134         7  59.47  21.9462  72190000  586540  면적50-60"
      ]
     },
     "execution_count": 359,
     "metadata": {},
     "output_type": "execute_result"
    }
   ],
   "source": [
    "data02.head()"
   ]
  },
  {
   "cell_type": "code",
   "execution_count": 362,
   "metadata": {
    "id": "CqTaBueeL2NV"
   },
   "outputs": [
    {
     "data": {
      "text/html": [
       "<div>\n",
       "<style scoped>\n",
       "    .dataframe tbody tr th:only-of-type {\n",
       "        vertical-align: middle;\n",
       "    }\n",
       "\n",
       "    .dataframe tbody tr th {\n",
       "        vertical-align: top;\n",
       "    }\n",
       "\n",
       "    .dataframe thead th {\n",
       "        text-align: right;\n",
       "    }\n",
       "</style>\n",
       "<table border=\"1\" class=\"dataframe\">\n",
       "  <thead>\n",
       "    <tr style=\"text-align: right;\">\n",
       "      <th></th>\n",
       "      <th>단지코드</th>\n",
       "      <th>전용면적구간</th>\n",
       "      <th>전용면적별세대수</th>\n",
       "    </tr>\n",
       "  </thead>\n",
       "  <tbody>\n",
       "    <tr>\n",
       "      <th>0</th>\n",
       "      <td>C0001</td>\n",
       "      <td>면적10-30</td>\n",
       "      <td>0</td>\n",
       "    </tr>\n",
       "    <tr>\n",
       "      <th>1</th>\n",
       "      <td>C0001</td>\n",
       "      <td>면적30-40</td>\n",
       "      <td>0</td>\n",
       "    </tr>\n",
       "    <tr>\n",
       "      <th>2</th>\n",
       "      <td>C0001</td>\n",
       "      <td>면적40-50</td>\n",
       "      <td>0</td>\n",
       "    </tr>\n",
       "    <tr>\n",
       "      <th>3</th>\n",
       "      <td>C0001</td>\n",
       "      <td>면적50-60</td>\n",
       "      <td>78</td>\n",
       "    </tr>\n",
       "    <tr>\n",
       "      <th>4</th>\n",
       "      <td>C0001</td>\n",
       "      <td>면적60-70</td>\n",
       "      <td>0</td>\n",
       "    </tr>\n",
       "  </tbody>\n",
       "</table>\n",
       "</div>"
      ],
      "text/plain": [
       "    단지코드   전용면적구간  전용면적별세대수\n",
       "0  C0001  면적10-30         0\n",
       "1  C0001  면적30-40         0\n",
       "2  C0001  면적40-50         0\n",
       "3  C0001  면적50-60        78\n",
       "4  C0001  면적60-70         0"
      ]
     },
     "execution_count": 362,
     "metadata": {},
     "output_type": "execute_result"
    }
   ],
   "source": [
    "temp=data02.groupby(['단지코드','전용면적구간'],as_index=False)['전용면적별세대수'].sum()\n",
    "temp.head()"
   ]
  },
  {
   "cell_type": "code",
   "execution_count": 381,
   "metadata": {
    "id": "1s6ms5EmvG-Z"
   },
   "outputs": [],
   "source": [
    "df_pivot=temp.pivot(index='단지코드',columns='전용면적구간',values='전용면적별세대수')\n",
    "df_pivot.columns.name=None\n",
    "#인덱스 초기화\n",
    "df_pivot.reset_index(inplace=True)"
   ]
  },
  {
   "cell_type": "code",
   "execution_count": 383,
   "metadata": {},
   "outputs": [
    {
     "data": {
      "text/html": [
       "<div>\n",
       "<style scoped>\n",
       "    .dataframe tbody tr th:only-of-type {\n",
       "        vertical-align: middle;\n",
       "    }\n",
       "\n",
       "    .dataframe tbody tr th {\n",
       "        vertical-align: top;\n",
       "    }\n",
       "\n",
       "    .dataframe thead th {\n",
       "        text-align: right;\n",
       "    }\n",
       "</style>\n",
       "<table border=\"1\" class=\"dataframe\">\n",
       "  <thead>\n",
       "    <tr style=\"text-align: right;\">\n",
       "      <th></th>\n",
       "      <th>단지코드</th>\n",
       "      <th>면적10-30</th>\n",
       "      <th>면적30-40</th>\n",
       "      <th>면적40-50</th>\n",
       "      <th>면적50-60</th>\n",
       "      <th>면적60-70</th>\n",
       "      <th>면적70-80</th>\n",
       "      <th>면적80-200</th>\n",
       "    </tr>\n",
       "  </thead>\n",
       "  <tbody>\n",
       "    <tr>\n",
       "      <th>0</th>\n",
       "      <td>C0001</td>\n",
       "      <td>0</td>\n",
       "      <td>0</td>\n",
       "      <td>0</td>\n",
       "      <td>78</td>\n",
       "      <td>0</td>\n",
       "      <td>0</td>\n",
       "      <td>0</td>\n",
       "    </tr>\n",
       "    <tr>\n",
       "      <th>1</th>\n",
       "      <td>C0002</td>\n",
       "      <td>35</td>\n",
       "      <td>0</td>\n",
       "      <td>0</td>\n",
       "      <td>0</td>\n",
       "      <td>0</td>\n",
       "      <td>0</td>\n",
       "      <td>0</td>\n",
       "    </tr>\n",
       "    <tr>\n",
       "      <th>2</th>\n",
       "      <td>C0003</td>\n",
       "      <td>0</td>\n",
       "      <td>0</td>\n",
       "      <td>0</td>\n",
       "      <td>88</td>\n",
       "      <td>0</td>\n",
       "      <td>0</td>\n",
       "      <td>0</td>\n",
       "    </tr>\n",
       "    <tr>\n",
       "      <th>3</th>\n",
       "      <td>C0004</td>\n",
       "      <td>0</td>\n",
       "      <td>0</td>\n",
       "      <td>0</td>\n",
       "      <td>150</td>\n",
       "      <td>0</td>\n",
       "      <td>216</td>\n",
       "      <td>111</td>\n",
       "    </tr>\n",
       "    <tr>\n",
       "      <th>4</th>\n",
       "      <td>C0006</td>\n",
       "      <td>15</td>\n",
       "      <td>0</td>\n",
       "      <td>0</td>\n",
       "      <td>0</td>\n",
       "      <td>0</td>\n",
       "      <td>0</td>\n",
       "      <td>0</td>\n",
       "    </tr>\n",
       "  </tbody>\n",
       "</table>\n",
       "</div>"
      ],
      "text/plain": [
       "    단지코드  면적10-30  면적30-40  면적40-50  면적50-60  면적60-70  면적70-80  면적80-200\n",
       "0  C0001        0        0        0       78        0        0         0\n",
       "1  C0002       35        0        0        0        0        0         0\n",
       "2  C0003        0        0        0       88        0        0         0\n",
       "3  C0004        0        0        0      150        0      216       111\n",
       "4  C0006       15        0        0        0        0        0         0"
      ]
     },
     "execution_count": 383,
     "metadata": {},
     "output_type": "execute_result"
    }
   ],
   "source": [
    "df_pivot.head()"
   ]
  },
  {
   "cell_type": "markdown",
   "metadata": {
    "id": "Saa2ErQgvG-Z"
   },
   "source": [
    "#### 3) 임대보증금, 임대료 평균 집계\n"
   ]
  },
  {
   "cell_type": "code",
   "execution_count": 371,
   "metadata": {
    "id": "LQw0dLiMvG-Z"
   },
   "outputs": [
    {
     "data": {
      "text/html": [
       "<div>\n",
       "<style scoped>\n",
       "    .dataframe tbody tr th:only-of-type {\n",
       "        vertical-align: middle;\n",
       "    }\n",
       "\n",
       "    .dataframe tbody tr th {\n",
       "        vertical-align: top;\n",
       "    }\n",
       "\n",
       "    .dataframe thead th {\n",
       "        text-align: right;\n",
       "    }\n",
       "</style>\n",
       "<table border=\"1\" class=\"dataframe\">\n",
       "  <thead>\n",
       "    <tr style=\"text-align: right;\">\n",
       "      <th></th>\n",
       "      <th>단지코드</th>\n",
       "      <th>임대보증금</th>\n",
       "      <th>임대료</th>\n",
       "    </tr>\n",
       "  </thead>\n",
       "  <tbody>\n",
       "    <tr>\n",
       "      <th>0</th>\n",
       "      <td>C0001</td>\n",
       "      <td>5.696200e+07</td>\n",
       "      <td>642930.000000</td>\n",
       "    </tr>\n",
       "    <tr>\n",
       "      <th>1</th>\n",
       "      <td>C0002</td>\n",
       "      <td>6.306200e+07</td>\n",
       "      <td>470100.000000</td>\n",
       "    </tr>\n",
       "    <tr>\n",
       "      <th>2</th>\n",
       "      <td>C0003</td>\n",
       "      <td>7.219000e+07</td>\n",
       "      <td>586540.000000</td>\n",
       "    </tr>\n",
       "    <tr>\n",
       "      <th>3</th>\n",
       "      <td>C0004</td>\n",
       "      <td>1.015167e+08</td>\n",
       "      <td>950305.000000</td>\n",
       "    </tr>\n",
       "    <tr>\n",
       "      <th>4</th>\n",
       "      <td>C0006</td>\n",
       "      <td>5.522750e+07</td>\n",
       "      <td>340148.333333</td>\n",
       "    </tr>\n",
       "  </tbody>\n",
       "</table>\n",
       "</div>"
      ],
      "text/plain": [
       "    단지코드         임대보증금            임대료\n",
       "0  C0001  5.696200e+07  642930.000000\n",
       "1  C0002  6.306200e+07  470100.000000\n",
       "2  C0003  7.219000e+07  586540.000000\n",
       "3  C0004  1.015167e+08  950305.000000\n",
       "4  C0006  5.522750e+07  340148.333333"
      ]
     },
     "execution_count": 371,
     "metadata": {},
     "output_type": "execute_result"
    }
   ],
   "source": [
    "df_rent=data02.groupby(['단지코드'],as_index=False)[['임대보증금','임대료']].mean()\n",
    "df_rent.head()"
   ]
  },
  {
   "cell_type": "markdown",
   "metadata": {
    "id": "75qUWdl4vG-c"
   },
   "source": [
    "### (3) 집계 결과 합치기"
   ]
  },
  {
   "cell_type": "code",
   "execution_count": 397,
   "metadata": {},
   "outputs": [],
   "source": [
    "base_data=pd.merge(df_area,data01,how='left',on='단지코드')\n",
    "base_data=pd.merge(base_data,df_pivot,how='left',on='단지코드')\n",
    "base_data=pd.merge(base_data,df_rent,how='left',on='단지코드')"
   ]
  },
  {
   "cell_type": "code",
   "execution_count": 403,
   "metadata": {},
   "outputs": [
    {
     "data": {
      "text/plain": [
       "18"
      ]
     },
     "execution_count": 403,
     "metadata": {},
     "output_type": "execute_result"
    }
   ],
   "source": [
    "len(base_data.columns)"
   ]
  },
  {
   "cell_type": "markdown",
   "metadata": {
    "id": "DFVvSdhGQ4N_"
   },
   "source": [
    "## 4. 데이터 셋 저장\n",
    "\n",
    "- joblib.dump() 함수를 사용하여 최종 데이터 셋을 파일로 저장합니다.\n",
    "- 파일 이름은 base_data1.pkl로 합니다."
   ]
  },
  {
   "cell_type": "code",
   "execution_count": 405,
   "metadata": {
    "id": "rsPMYAnPBo4k"
   },
   "outputs": [
    {
     "data": {
      "text/plain": [
       "['base_data1.pkl']"
      ]
     },
     "execution_count": 405,
     "metadata": {},
     "output_type": "execute_result"
    }
   ],
   "source": [
    "# 파일로 저장\n",
    "joblib.dump(base_data, path+'base_data1.pkl')"
   ]
  }
 ],
 "metadata": {
  "colab": {
   "provenance": [],
   "toc_visible": true
  },
  "kernelspec": {
   "display_name": "Python 3 (ipykernel)",
   "language": "python",
   "name": "python3"
  },
  "language_info": {
   "codemirror_mode": {
    "name": "ipython",
    "version": 3
   },
   "file_extension": ".py",
   "mimetype": "text/x-python",
   "name": "python",
   "nbconvert_exporter": "python",
   "pygments_lexer": "ipython3",
   "version": "3.12.4"
  }
 },
 "nbformat": 4,
 "nbformat_minor": 4
}
